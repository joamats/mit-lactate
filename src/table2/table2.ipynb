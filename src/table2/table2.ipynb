{
 "cells": [
  {
   "cell_type": "code",
   "execution_count": 1,
   "metadata": {},
   "outputs": [],
   "source": [
    "import pandas as pd\n",
    "import numpy as np\n",
    "import os"
   ]
  },
  {
   "cell_type": "code",
   "execution_count": 2,
   "metadata": {},
   "outputs": [
    {
     "data": {
      "text/plain": [
       "Index(['patient_id', 'sepsis3', 'hospital_id', 'icu_id', 'patient_id.1',\n",
       "       'stay_id', 'stay_number', 'year', 'age', 'sex_female', 'race',\n",
       "       'race_group', 'charlson_ci', 'CCI_ranges', 'sofa_day1', 'SOFA_ranges',\n",
       "       'admit_type', 'admit_source', 'cirrhosis_present',\n",
       "       'heart_failure_present', 'ckd_stages', 'weight', 'lactate_day1',\n",
       "       'lactate_freq_day1', 'lactate_day2', 'lactate_freq_day2',\n",
       "       'hemoglobin_stay_min', 'mortality_in', 'los_icu_hours',\n",
       "       'mech_vent_overall_yes', 'rrt_overall_yes', 'rrt_start_delta',\n",
       "       'vasopressor_overall_yes', 'transfusion_overall_yes', 'transfusion_yes',\n",
       "       'transfusion_units_day1', 'transfusion_units_day2',\n",
       "       'fluids_overall_yes', 'fluids_yes', 'fluids_sum_day1',\n",
       "       'fluids_sum_day2'],\n",
       "      dtype='object')"
      ]
     },
     "execution_count": 2,
     "metadata": {},
     "output_type": "execute_result"
    }
   ],
   "source": [
    "df = pd.read_csv('../../data/cohort_eICU_lac1.csv')\n",
    "df.keys()"
   ]
  },
  {
   "cell_type": "code",
   "execution_count": 17,
   "metadata": {},
   "outputs": [
    {
     "name": "stderr",
     "output_type": "stream",
     "text": [
      "C:\\Users\\Luca\\AppData\\Local\\Temp\\ipykernel_45908\\399305802.py:10: UserWarning: Boolean Series key will be reindexed to match DataFrame index.\n",
      "  dfs[f\"{bins[i]}-{bins[i+1]} {race}\"] = df[df[\"race_group\"]==race][(lacs >= bins[i]) & (lacs < bins[i+1])]\n",
      "C:\\Users\\Luca\\AppData\\Local\\Temp\\ipykernel_45908\\399305802.py:11: UserWarning: Boolean Series key will be reindexed to match DataFrame index.\n",
      "  dfs[f\">6 {race}\"] = df[df[\"race_group\"]==race][lacs >= bins[-1]]\n"
     ]
    }
   ],
   "source": [
    "# split the data into bins by lactate\n",
    "# bins: All, 0-2, 2-4, 4-6, >6\n",
    "lacs = df.lactate_day1\n",
    "races = [\"White\", \"Black\"]\n",
    "bins = [0, 2, 4, 6]\n",
    "dfs = {}\n",
    "for race in races:\n",
    "    dfs[f\"All {race}\"] = df[df[\"race_group\"]==race]\n",
    "    for i in range(len(bins)-1):\n",
    "        dfs[f\"{bins[i]}-{bins[i+1]} {race}\"] = df[df[\"race_group\"]==race][(lacs >= bins[i]) & (lacs < bins[i+1])]\n",
    "    dfs[f\">6 {race}\"] = df[df[\"race_group\"]==race][lacs >= bins[-1]]\n",
    "# sort the dictionary by key\n",
    "dfs = {k: dfs[k] for k in sorted(dfs.keys())}"
   ]
  },
  {
   "cell_type": "code",
   "execution_count": 18,
   "metadata": {},
   "outputs": [
    {
     "data": {
      "text/html": [
       "<div>\n",
       "<style scoped>\n",
       "    .dataframe tbody tr th:only-of-type {\n",
       "        vertical-align: middle;\n",
       "    }\n",
       "\n",
       "    .dataframe tbody tr th {\n",
       "        vertical-align: top;\n",
       "    }\n",
       "\n",
       "    .dataframe thead th {\n",
       "        text-align: right;\n",
       "    }\n",
       "</style>\n",
       "<table border=\"1\" class=\"dataframe\">\n",
       "  <thead>\n",
       "    <tr style=\"text-align: right;\">\n",
       "      <th></th>\n",
       "      <th>mortality_in</th>\n",
       "      <th>los_icu_hours</th>\n",
       "      <th>mech_vent_overall_yes</th>\n",
       "      <th>rrt_overall_yes</th>\n",
       "      <th>vasopressor_overall_yes</th>\n",
       "      <th>transfusion_overall_yes</th>\n",
       "      <th>fluids_overall_yes</th>\n",
       "    </tr>\n",
       "  </thead>\n",
       "  <tbody>\n",
       "    <tr>\n",
       "      <th>0-2 Black</th>\n",
       "      <td>0.105144</td>\n",
       "      <td>274.381745</td>\n",
       "      <td>0.369138</td>\n",
       "      <td>0.146747</td>\n",
       "      <td>0.380484</td>\n",
       "      <td>0.18003</td>\n",
       "      <td>0.178517</td>\n",
       "    </tr>\n",
       "    <tr>\n",
       "      <th>0-2 White</th>\n",
       "      <td>0.103673</td>\n",
       "      <td>222.546723</td>\n",
       "      <td>0.352143</td>\n",
       "      <td>0.071735</td>\n",
       "      <td>0.41449</td>\n",
       "      <td>0.128469</td>\n",
       "      <td>0.128367</td>\n",
       "    </tr>\n",
       "    <tr>\n",
       "      <th>2-4 Black</th>\n",
       "      <td>0.145577</td>\n",
       "      <td>252.036842</td>\n",
       "      <td>0.390817</td>\n",
       "      <td>0.136618</td>\n",
       "      <td>0.464726</td>\n",
       "      <td>0.160134</td>\n",
       "      <td>0.227324</td>\n",
       "    </tr>\n",
       "    <tr>\n",
       "      <th>2-4 White</th>\n",
       "      <td>0.146536</td>\n",
       "      <td>228.541588</td>\n",
       "      <td>0.374656</td>\n",
       "      <td>0.070158</td>\n",
       "      <td>0.492695</td>\n",
       "      <td>0.122812</td>\n",
       "      <td>0.131636</td>\n",
       "    </tr>\n",
       "    <tr>\n",
       "      <th>4-6 Black</th>\n",
       "      <td>0.182109</td>\n",
       "      <td>268.250319</td>\n",
       "      <td>0.485623</td>\n",
       "      <td>0.092652</td>\n",
       "      <td>0.549521</td>\n",
       "      <td>0.220447</td>\n",
       "      <td>0.210863</td>\n",
       "    </tr>\n",
       "    <tr>\n",
       "      <th>4-6 White</th>\n",
       "      <td>0.19469</td>\n",
       "      <td>221.835539</td>\n",
       "      <td>0.429204</td>\n",
       "      <td>0.071199</td>\n",
       "      <td>0.579646</td>\n",
       "      <td>0.139582</td>\n",
       "      <td>0.124698</td>\n",
       "    </tr>\n",
       "    <tr>\n",
       "      <th>&gt;6 Black</th>\n",
       "      <td>0.349614</td>\n",
       "      <td>317.598843</td>\n",
       "      <td>0.660668</td>\n",
       "      <td>0.172237</td>\n",
       "      <td>0.712082</td>\n",
       "      <td>0.236504</td>\n",
       "      <td>0.210797</td>\n",
       "    </tr>\n",
       "    <tr>\n",
       "      <th>&gt;6 White</th>\n",
       "      <td>0.375993</td>\n",
       "      <td>237.135385</td>\n",
       "      <td>0.630185</td>\n",
       "      <td>0.170786</td>\n",
       "      <td>0.718888</td>\n",
       "      <td>0.207414</td>\n",
       "      <td>0.127096</td>\n",
       "    </tr>\n",
       "    <tr>\n",
       "      <th>All Black</th>\n",
       "      <td>0.158382</td>\n",
       "      <td>272.646509</td>\n",
       "      <td>0.427151</td>\n",
       "      <td>0.141241</td>\n",
       "      <td>0.468632</td>\n",
       "      <td>0.185807</td>\n",
       "      <td>0.201234</td>\n",
       "    </tr>\n",
       "    <tr>\n",
       "      <th>All White</th>\n",
       "      <td>0.156767</td>\n",
       "      <td>225.935142</td>\n",
       "      <td>0.397671</td>\n",
       "      <td>0.081621</td>\n",
       "      <td>0.490939</td>\n",
       "      <td>0.136268</td>\n",
       "      <td>0.128861</td>\n",
       "    </tr>\n",
       "  </tbody>\n",
       "</table>\n",
       "</div>"
      ],
      "text/plain": [
       "          mortality_in los_icu_hours mech_vent_overall_yes rrt_overall_yes  \\\n",
       "0-2 Black     0.105144    274.381745              0.369138        0.146747   \n",
       "0-2 White     0.103673    222.546723              0.352143        0.071735   \n",
       "2-4 Black     0.145577    252.036842              0.390817        0.136618   \n",
       "2-4 White     0.146536    228.541588              0.374656        0.070158   \n",
       "4-6 Black     0.182109    268.250319              0.485623        0.092652   \n",
       "4-6 White      0.19469    221.835539              0.429204        0.071199   \n",
       ">6 Black      0.349614    317.598843              0.660668        0.172237   \n",
       ">6 White      0.375993    237.135385              0.630185        0.170786   \n",
       "All Black     0.158382    272.646509              0.427151        0.141241   \n",
       "All White     0.156767    225.935142              0.397671        0.081621   \n",
       "\n",
       "          vasopressor_overall_yes transfusion_overall_yes fluids_overall_yes  \n",
       "0-2 Black                0.380484                 0.18003           0.178517  \n",
       "0-2 White                 0.41449                0.128469           0.128367  \n",
       "2-4 Black                0.464726                0.160134           0.227324  \n",
       "2-4 White                0.492695                0.122812           0.131636  \n",
       "4-6 Black                0.549521                0.220447           0.210863  \n",
       "4-6 White                0.579646                0.139582           0.124698  \n",
       ">6 Black                 0.712082                0.236504           0.210797  \n",
       ">6 White                 0.718888                0.207414           0.127096  \n",
       "All Black                0.468632                0.185807           0.201234  \n",
       "All White                0.490939                0.136268           0.128861  "
      ]
     },
     "execution_count": 18,
     "metadata": {},
     "output_type": "execute_result"
    }
   ],
   "source": [
    "# Create a table with the following columns:\n",
    "# mortality_in, los_icu_hours, mech_vent_overall_yes, rrt_overall_yes, vasopressor_overall_yes, transfusion_overall_yes, fluids_overall_yes\n",
    "# split the columns by race_group (WHITE and BLACK)\n",
    "# the rows will be the bins of lactate_day1\n",
    "table = pd.DataFrame(columns=[\"mortality_in\", \"los_icu_hours\", \"mech_vent_overall_yes\", \"rrt_overall_yes\", \"vasopressor_overall_yes\", \"transfusion_overall_yes\", \"fluids_overall_yes\"], index=dfs.keys())\n",
    "for key in dfs.keys():\n",
    "    table.loc[key] = [dfs[key].mortality_in.mean(), dfs[key].los_icu_hours.mean(), dfs[key].mech_vent_overall_yes.mean(), dfs[key].rrt_overall_yes.mean(), dfs[key].vasopressor_overall_yes.mean(), dfs[key].transfusion_overall_yes.mean(), dfs[key].fluids_overall_yes.mean()]\n",
    "table"
   ]
  },
  {
   "cell_type": "code",
   "execution_count": null,
   "metadata": {},
   "outputs": [],
   "source": []
  }
 ],
 "metadata": {
  "kernelspec": {
   "display_name": "cuda",
   "language": "python",
   "name": "python3"
  },
  "language_info": {
   "codemirror_mode": {
    "name": "ipython",
    "version": 3
   },
   "file_extension": ".py",
   "mimetype": "text/x-python",
   "name": "python",
   "nbconvert_exporter": "python",
   "pygments_lexer": "ipython3",
   "version": "3.8.5"
  },
  "orig_nbformat": 4,
  "vscode": {
   "interpreter": {
    "hash": "c3db99de9f6fe190ccceef2b451e658f304bc27c583e99c1997af11f2dd62f25"
   }
  }
 },
 "nbformat": 4,
 "nbformat_minor": 2
}
